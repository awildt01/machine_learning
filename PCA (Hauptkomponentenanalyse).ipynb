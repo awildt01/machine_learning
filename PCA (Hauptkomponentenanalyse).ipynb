{
 "cells": [
  {
   "cell_type": "markdown",
   "metadata": {},
   "source": [
    "# Hauptkomponentenanalyse"
   ]
  },
  {
   "cell_type": "markdown",
   "metadata": {},
   "source": [
    " PCA ist eine der häufigsten Anwendungen von SVD und ein unbeaufsichtigter Algorithmus für das maschinelle Lernen.  Dieser wird in der Regel mit PCA abgekürzt und das steht für Principal Component Analysis.Dabei werden nicht korrelierte Features als Ergebnis einer Analyse übrig bleiben und diese werden als Hauptkomponenten bezeichnet. Es heißt, es gibt ein Algorithmus, der aus einer großen Menge an Daten versucht zu extrahieren, was wirklich wichtig ist, diese Hauptkomponente.  "
   ]
  },
  {
   "cell_type": "markdown",
   "metadata": {},
   "source": [
    "Nicht Korreliert Features,die die wichgiten Informationen eines Datensatzes(Varianz) verkörpern\n",
    "\n",
    "**1. Redundanz**\n",
    "\n",
    "**2. Raunchen**\n",
    "\n",
    "**3. Ausreißer**\n",
    "\n",
    "werden entfernt."
   ]
  },
  {
   "cell_type": "markdown",
   "metadata": {},
   "source": [
    "Ein Beispiel. Stellen Sie sich vor, Sie sind in einer Lebensmittelkette und haben Daten, die vom Kunden generiert wurden. Die haben mit einer Kreditkarte oder so Einkäufe getätigt und der Datensatz beschreibt die Kunden und die von ihnen gekauften Produkte. Das sind eine Vielzahl von Daten und Sie wollen jetzt herausfinden, welche Schlüsselfaktoren interessant sind. Also, was beeinflusst das Kaufverhalten des Kunden, etwa das Alter, das Einkommen etc. Und Sie können jetzt eben PCA anwenden, um die Kundendaten in einen Vektor zu zerlegen, der die Faktoren beschreibt, die das Einkaufsverhalten des Kunden beeinflussen"
   ]
  },
  {
   "cell_type": "markdown",
   "metadata": {},
   "source": [
    " Und es gibt einen weiteren Vektor, der die Wahrscheinlichkeiten beschreibt, mit dem Produkte gekauft werden, und zwar Wahrscheinlichkeiten, die auf den wichtigsten Einflussfaktoren basieren. Und alles, was dieses Kaufverhalten nicht beeinflusst, wird einfach weggelassen. Stellen Sie sich vor die Haarfarbe, die dürfte in der Regel keine Relevanz haben, könnte aber möglicherweise dennoch in so einem Datensatz auftauchen. "
   ]
  },
  {
   "cell_type": "markdown",
   "metadata": {},
   "source": [
    "Man kann diese PCA für verschiedenste Dinge anwenden, etwa zum Entdecken von\n",
    "\n",
    "**1. Betrugsfällen**\n",
    "\n",
    "**2. Spam-Erkennung**\n",
    "\n",
    "**3. Bilderkennung** \n",
    "\n",
    "**4. Spracherkennung** "
   ]
  },
  {
   "cell_type": "markdown",
   "metadata": {},
   "source": [
    "**Beispiel mit Aris Dataset:**"
   ]
  },
  {
   "cell_type": "code",
   "execution_count": 14,
   "metadata": {},
   "outputs": [],
   "source": [
    "import numpy as np\n",
    "import pandas as pd\n",
    "import seaborn as sb\n",
    "import sklearn\n",
    "from sklearn.decomposition import PCA\n",
    "from sklearn import datasets"
   ]
  },
  {
   "cell_type": "markdown",
   "metadata": {},
   "source": [
    "PCA in Verbindung mit Aries Dataset"
   ]
  },
  {
   "cell_type": "code",
   "execution_count": 15,
   "metadata": {},
   "outputs": [
    {
     "data": {
      "text/plain": [
       "array([[5.1, 3.5, 1.4, 0.2],\n",
       "       [4.9, 3. , 1.4, 0.2],\n",
       "       [4.7, 3.2, 1.3, 0.2],\n",
       "       [4.6, 3.1, 1.5, 0.2],\n",
       "       [5. , 3.6, 1.4, 0.2],\n",
       "       [5.4, 3.9, 1.7, 0.4],\n",
       "       [4.6, 3.4, 1.4, 0.3],\n",
       "       [5. , 3.4, 1.5, 0.2],\n",
       "       [4.4, 2.9, 1.4, 0.2],\n",
       "       [4.9, 3.1, 1.5, 0.1]])"
      ]
     },
     "execution_count": 15,
     "metadata": {},
     "output_type": "execute_result"
    }
   ],
   "source": [
    "iris=datasets.load_iris()\n",
    "X=iris.data\n",
    "variable_name=iris.feature_names\n",
    "X[0:10,]"
   ]
  },
  {
   "cell_type": "markdown",
   "metadata": {},
   "source": [
    "Erzeugen vom Objekt PCA. Objeckt wird in der Variable PCA gespeichert. \n",
    "Mit der Methode fit_transform nehmen wir unsere Daten, die wir hier aus diesem Iris-Dataset geholt haben und transformieren sie über ein PCA-Objekt in eine Form, die wir hier in iris_pca speichern.\n",
    "Und die so aufbereiteten Daten sollen dann in eine Form gebracht werden, dass wir sie interpretieren können. "
   ]
  },
  {
   "cell_type": "code",
   "execution_count": 18,
   "metadata": {},
   "outputs": [],
   "source": [
    "pca=sklearn.decomposition.PCA()\n",
    "iris_pca=pca.fit_transform(X)"
   ]
  },
  {
   "cell_type": "markdown",
   "metadata": {},
   "source": [
    "**Varianz-Verhältnis**"
   ]
  },
  {
   "cell_type": "markdown",
   "metadata": {},
   "source": [
    "Die Varianz beschreibt nun die quadrierte durchschnittliche Entfernung vom Mittelwert.\n",
    "Die vier zurück gegebenen Komponenten haben eben 100% der Information.\n",
    "\n",
    "wir haben vier Komponeten\n",
    "\n",
    "**1. 0.924**\n",
    "\n",
    "**2. 0.530**\n",
    "\n",
    "**3. 0.017**\n",
    "\n",
    "**4. 0.005**\n",
    " \n",
    "Der ersten Komponente hat 92,4% der Variation des Datensatzes enthalten. Das heißt, die wichtigen Informationen in einer Hauptkomponente sind zu 92,4% dadrin.Der zweite Kompomente hat 5,5% der Informationen der Dritte 0,017% und die vierte 0,05%.\n",
    "\n",
    "**Entscheidungshilfe: 70% der Kumulative vazianz soll behalten werden.**\n",
    "\n",
    "Wir nehmen also für die nächsten Schritte nur die ersten beiden Komponenten,da wir wissen, dass sie **97,7%** der ursprünglichen Information des Datensatzes Halten."
   ]
  },
  {
   "cell_type": "code",
   "execution_count": 19,
   "metadata": {},
   "outputs": [
    {
     "data": {
      "text/plain": [
       "array([0.92461621, 0.05301557, 0.01718514, 0.00518309])"
      ]
     },
     "execution_count": 19,
     "metadata": {},
     "output_type": "execute_result"
    }
   ],
   "source": [
    "pca.explained_variance_ratio_"
   ]
  },
  {
   "cell_type": "markdown",
   "metadata": {},
   "source": [
    "Die Summe der Variaatinen von den Vier Kopomenten ist gliech 1 (Kumulative Varianz)"
   ]
  },
  {
   "cell_type": "code",
   "execution_count": 24,
   "metadata": {},
   "outputs": [
    {
     "data": {
      "text/plain": [
       "0.9999999999999999"
      ]
     },
     "execution_count": 24,
     "metadata": {},
     "output_type": "execute_result"
    }
   ],
   "source": [
    "pca.explained_variance_ratio_.sum()"
   ]
  },
  {
   "cell_type": "markdown",
   "metadata": {},
   "source": [
    "Wir zeigen erste die vier Kompmenten in ein DataFrame.\n",
    "Und übergeben unsere PCA-Komponenten als ersten Parameter und als zweiten Parameter können Sie bei Bedarf die Spaltennamen setzen, "
   ]
  },
  {
   "cell_type": "code",
   "execution_count": 33,
   "metadata": {},
   "outputs": [
    {
     "data": {
      "text/html": [
       "<div>\n",
       "<style scoped>\n",
       "    .dataframe tbody tr th:only-of-type {\n",
       "        vertical-align: middle;\n",
       "    }\n",
       "\n",
       "    .dataframe tbody tr th {\n",
       "        vertical-align: top;\n",
       "    }\n",
       "\n",
       "    .dataframe thead th {\n",
       "        text-align: right;\n",
       "    }\n",
       "</style>\n",
       "<table border=\"1\" class=\"dataframe\">\n",
       "  <thead>\n",
       "    <tr style=\"text-align: right;\">\n",
       "      <th></th>\n",
       "      <th>sepal length (cm)</th>\n",
       "      <th>sepal width (cm)</th>\n",
       "      <th>petal length (cm)</th>\n",
       "      <th>petal width (cm)</th>\n",
       "    </tr>\n",
       "  </thead>\n",
       "  <tbody>\n",
       "    <tr>\n",
       "      <th>0</th>\n",
       "      <td>0.361590</td>\n",
       "      <td>-0.082269</td>\n",
       "      <td>0.856572</td>\n",
       "      <td>0.358844</td>\n",
       "    </tr>\n",
       "    <tr>\n",
       "      <th>1</th>\n",
       "      <td>0.656540</td>\n",
       "      <td>0.729712</td>\n",
       "      <td>-0.175767</td>\n",
       "      <td>-0.074706</td>\n",
       "    </tr>\n",
       "    <tr>\n",
       "      <th>2</th>\n",
       "      <td>-0.580997</td>\n",
       "      <td>0.596418</td>\n",
       "      <td>0.072524</td>\n",
       "      <td>0.549061</td>\n",
       "    </tr>\n",
       "    <tr>\n",
       "      <th>3</th>\n",
       "      <td>0.317255</td>\n",
       "      <td>-0.324094</td>\n",
       "      <td>-0.479719</td>\n",
       "      <td>0.751121</td>\n",
       "    </tr>\n",
       "  </tbody>\n",
       "</table>\n",
       "</div>"
      ],
      "text/plain": [
       "   sepal length (cm)  sepal width (cm)  petal length (cm)  petal width (cm)\n",
       "0           0.361590         -0.082269           0.856572          0.358844\n",
       "1           0.656540          0.729712          -0.175767         -0.074706\n",
       "2          -0.580997          0.596418           0.072524          0.549061\n",
       "3           0.317255         -0.324094          -0.479719          0.751121"
      ]
     },
     "execution_count": 33,
     "metadata": {},
     "output_type": "execute_result"
    }
   ],
   "source": [
    "comps=pd.DataFrame(pca.components_,columns=variable_name)\n",
    "\n",
    "comps"
   ]
  },
  {
   "cell_type": "markdown",
   "metadata": {},
   "source": [
    "**Haupcompomente**\n",
    "\n",
    "1. Faktor 1 -> 0  Zeile\n",
    "\n",
    "2. Faktor 2 -> 1  Zeile\n",
    "\n",
    "\n",
    "Die erläuterte Varianz, die wir uns zuvor schon angesehen haben, ergab, dass die ersten beiden Hauptkomponenten über 97,7% der gesamten Information des Datensatzes enthielten. Aufgrund dieser Information ist es sinnvoll zu beschließen, dass nur diese beiden Komponenten beibehalten werden. \n",
    "\n",
    "Die Ergebnisse dieser Korrelation zwar einmal gerade zeigen, dass eine Hauptkomponente eine starke positive Korrelation mit der Blütenblattlänge und eine moderate positive Korrelation mit der Kelchblattlänge und der Blütenblattbreite aufweist. \n",
    "\n",
    "Die erste Komponente ist jedoch auch leicht negativ mit der Kelchblattbreite korreliert und die zweite Hauptkomponente ist stark negativ mit der Kelchblattlänge und der Kelchblattbreite korreliert und leicht negativ mit der Blütenblattlänge und der Blütenblattbreite. \n"
   ]
  },
  {
   "cell_type": "code",
   "execution_count": 35,
   "metadata": {},
   "outputs": [
    {
     "data": {
      "text/plain": [
       "<matplotlib.axes._subplots.AxesSubplot at 0x242c6a066a0>"
      ]
     },
     "execution_count": 35,
     "metadata": {},
     "output_type": "execute_result"
    },
    {
     "data": {
      "image/png": "[encoded data removed]",
      "text/plain": [
       "<matplotlib.figure.Figure at 0x242c69118d0>"
      ]
     },
     "metadata": {},
     "output_type": "display_data"
    }
   ],
   "source": [
    "sb.heatmap(comps)"
   ]
  },
  {
   "cell_type": "markdown",
   "metadata": {},
   "source": [
    "## Diese Daten(Faktor 0 und 1) können  als Eingabe-Variablen für das maschinelle Lernen für Lernalgorithmen verwenden.##"
   ]
  },
  {
   "cell_type": "markdown",
   "metadata": {},
   "source": []
  },
  {
   "cell_type": "code",
   "execution_count": null,
   "metadata": {},
   "outputs": [],
   "source": []
  }
 ],
 "metadata": {
  "kernelspec": {
   "display_name": "Python 3",
   "language": "python",
   "name": "python3"
  },
  "language_info": {
   "codemirror_mode": {
    "name": "ipython",
    "version": 3
   },
   "file_extension": ".py",
   "mimetype": "text/x-python",
   "name": "python",
   "nbconvert_exporter": "python",
   "pygments_lexer": "ipython3",
   "version": "3.6.4"
  }
 },
 "nbformat": 4,
 "nbformat_minor": 2
}
