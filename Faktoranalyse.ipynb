{
 "cells": [
  {
   "cell_type": "markdown",
   "metadata": {},
   "source": [
    "# Faktoranalyse (Faktor Analyse)"
   ]
  },
  {
   "cell_type": "markdown",
   "metadata": {},
   "source": [
    "Bei Faktoranalyse geht es um die Untersuchung von Daten und Datasets, um darin gewisse Ursachen zu finden, warum Daten sich auf eine bestimmte Art und Weise verhalten, warum sie in einer bestimmten Art und Weise wirken.\n",
    "Das Wichtige daran ist, dass es sich um sogenannte latente Variablen, Faktoren handelt. Das sind Variablen, die aussagekräftig sind, aber nicht direkt beobachtbar, sondern abgeleitet aus anderen Fakten.\n"
   ]
  },
  {
   "cell_type": "markdown",
   "metadata": {},
   "source": [
    "Beispiel:\n",
    "Sie wollen eine Segmentierung von Kunden vornehmen, das heißt, Kunden in verschiedene Gruppen einteilen. Sie haben nun Daten aus einer Kundenbefragung und können diese Faktoranalyse anwenden als einfaches Mittel, um die Befragten in aussagekräftige Segmente zu gruppieren.\n",
    "Diese basiert zum Beispiel auf Ähnlichkeiten in der Art und Weise, wie die Befragten bestimmte Teilmenge von dieser Umfrage beantwortet haben.\n"
   ]
  },
  {
   "cell_type": "markdown",
   "metadata": {},
   "source": [
    "Beispiel 1:\n",
    "Sie wollen eine Segmentierung von Kunden vornehmen, das heißt, Kunden in verschiedene Gruppen einteilen. Sie haben nun Daten aus einer Kundenbefragung und können diese Faktoranalyse anwenden als einfaches Mittel, um die Befragten in aussagekräftige Segmente zu gruppieren.\n",
    "Diese basiert zum Beispiel auf Ähnlichkeiten in der Art und Weise, wie die Befragten bestimmte Teilmenge von dieser Umfrage beantwortet haben.\n",
    "\n",
    "Um eine Faktoranalyse ausführen zu können, gibt es gewisse Annahmen, die mit den Daten getroffen werden.\n",
    "\n",
    "#1-Die Features müssen metrisch sein\n",
    "#2-Die Funktionen sind kontinuierlich oder ordinal\n",
    "#3- Es gibt eine sogenannte r-Korrelation, größer als 0,3 zwischen den Features und ihrem Dataset. \n",
    "#4-100 Beobachtungen insgesamt und pro Merkmal mehr als 5 Beobachtungswerte \n",
    "#5- Die Probe muss homogen sein, das heißt, gleichmäßig verteilt.\n"
   ]
  },
  {
   "cell_type": "markdown",
   "metadata": {},
   "source": [
    "Beispiel 2:\n",
    "Um dieses Beispiel durchzuführen werden wir mit dem iris-Datenquelle arbeiten. Er ist standardmäßig bei sklearn integriert.\n"
   ]
  },
  {
   "cell_type": "markdown",
   "metadata": {},
   "source": [
    "Der Iris-Datensatz enthält vier numerische Variablen, die drei verschiedene Arten von Iris-Blüten beschreiben. Das sind hier alles numerische Attribute, was man ja fordert bei der Faktoranalyse.\n",
    "                       "
   ]
  },
  {
   "cell_type": "raw",
   "metadata": {},
   "source": [
    "Iris Blumen\t\t\tAttribute (Vorhersagemermale-prective features)\n",
    "•Setosa             •Sepal lenght\n",
    "•Versicolor         •Sepal width\n",
    "•Virgnica           •Pedal lenght\n",
    "                    •Pedal width"
   ]
  },
  {
   "cell_type": "markdown",
   "metadata": {},
   "source": [
    "wir werden jetzt versuchen eine Kombination von Features aufzudecken, die die meisten Informationen, die meisten Aussagen enthalten. Das werden dann diese latenten Variablen sein, von denen wir gerade reden"
   ]
  },
  {
   "cell_type": "code",
   "execution_count": 1,
   "metadata": {},
   "outputs": [],
   "source": [
    "import numpy as np\n",
    "import pandas as pd\n",
    "import sklearn\n",
    "from sklearn.decomposition import FactorAnalysis\n",
    "from sklearn  import datasets\n"
   ]
  },
  {
   "cell_type": "code",
   "execution_count": 2,
   "metadata": {},
   "outputs": [
    {
     "data": {
      "text/plain": [
       "array([[5.1, 3.5, 1.4, 0.2],\n",
       "       [4.9, 3. , 1.4, 0.2],\n",
       "       [4.7, 3.2, 1.3, 0.2],\n",
       "       [4.6, 3.1, 1.5, 0.2],\n",
       "       [5. , 3.6, 1.4, 0.2],\n",
       "       [5.4, 3.9, 1.7, 0.4],\n",
       "       [4.6, 3.4, 1.4, 0.3],\n",
       "       [5. , 3.4, 1.5, 0.2],\n",
       "       [4.4, 2.9, 1.4, 0.2],\n",
       "       [4.9, 3.1, 1.5, 0.1]])"
      ]
     },
     "execution_count": 2,
     "metadata": {},
     "output_type": "execute_result"
    }
   ],
   "source": [
    "iris=datasets.load_iris()\n",
    "X=iris.data\n",
    "variable_names=iris.feature_names\n",
    "X[0:10,]\n",
    "\n",
    "\n"
   ]
  },
  {
   "cell_type": "markdown",
   "metadata": {},
   "source": [
    "Faktoranalyse auf dem Iris-Dataset"
   ]
  },
  {
   "cell_type": "code",
   "execution_count": 3,
   "metadata": {},
   "outputs": [
    {
     "data": {
      "text/html": [
       "<div>\n",
       "<style scoped>\n",
       "    .dataframe tbody tr th:only-of-type {\n",
       "        vertical-align: middle;\n",
       "    }\n",
       "\n",
       "    .dataframe tbody tr th {\n",
       "        vertical-align: top;\n",
       "    }\n",
       "\n",
       "    .dataframe thead th {\n",
       "        text-align: right;\n",
       "    }\n",
       "</style>\n",
       "<table border=\"1\" class=\"dataframe\">\n",
       "  <thead>\n",
       "    <tr style=\"text-align: right;\">\n",
       "      <th></th>\n",
       "      <th>sepal length (cm)</th>\n",
       "      <th>sepal width (cm)</th>\n",
       "      <th>petal length (cm)</th>\n",
       "      <th>petal width (cm)</th>\n",
       "    </tr>\n",
       "  </thead>\n",
       "  <tbody>\n",
       "    <tr>\n",
       "      <th>0</th>\n",
       "      <td>0.707227</td>\n",
       "      <td>-0.153147</td>\n",
       "      <td>1.653151</td>\n",
       "      <td>0.701569</td>\n",
       "    </tr>\n",
       "    <tr>\n",
       "      <th>1</th>\n",
       "      <td>0.114676</td>\n",
       "      <td>0.159763</td>\n",
       "      <td>-0.045604</td>\n",
       "      <td>-0.014052</td>\n",
       "    </tr>\n",
       "    <tr>\n",
       "      <th>2</th>\n",
       "      <td>-0.000000</td>\n",
       "      <td>0.000000</td>\n",
       "      <td>0.000000</td>\n",
       "      <td>0.000000</td>\n",
       "    </tr>\n",
       "    <tr>\n",
       "      <th>3</th>\n",
       "      <td>-0.000000</td>\n",
       "      <td>0.000000</td>\n",
       "      <td>0.000000</td>\n",
       "      <td>-0.000000</td>\n",
       "    </tr>\n",
       "  </tbody>\n",
       "</table>\n",
       "</div>"
      ],
      "text/plain": [
       "   sepal length (cm)  sepal width (cm)  petal length (cm)  petal width (cm)\n",
       "0           0.707227         -0.153147           1.653151          0.701569\n",
       "1           0.114676          0.159763          -0.045604         -0.014052\n",
       "2          -0.000000          0.000000           0.000000          0.000000\n",
       "3          -0.000000          0.000000           0.000000         -0.000000"
      ]
     },
     "execution_count": 3,
     "metadata": {},
     "output_type": "execute_result"
    }
   ],
   "source": [
    "factor= FactorAnalysis().fit(X)\n",
    "pd.DataFrame(factor.components_ ,columns=variable_names)\n"
   ]
  },
  {
   "cell_type": "markdown",
   "metadata": {},
   "source": [
    "### Interpretation der Ergebnisse"
   ]
  },
  {
   "cell_type": "markdown",
   "metadata": {},
   "source": [
    "Wir haben also folgende Daten ermittelt bezüglich der Länge und Breite von Kelch und Blütenblätter. \n",
    "Dabei fallen zwei Faktoren mit Zahlen auf, die von 0 abweichen. Dieser Faktor 1 scheint sehr stark sich gegenüber dem Faktor 2 herauszukristallisieren, die Werte sind viel höher. \n"
   ]
  },
  {
   "cell_type": "markdown",
   "metadata": {},
   "source": [
    "Offensichtlich hat dieser Faktor 1 einen großen Einfluss auf die Kelchblattlänge, die Blütenblattlänge und auch die Blütenblattbreite von Iris-Pflanzen. Faktor 2 hat keine große Auswirkung auf eine dieser Variablen. Nun geht es bei der Faktoranalyse darum die relevanten Daten zu betrachten, die irrelevanten aber wegzulassen, das bedeutet, man hat eine sogenannte Redaktion der Dimension. "
   ]
  },
  {
   "cell_type": "markdown",
   "metadata": {},
   "source": [
    "Und dadurch, dass Faktor 2 ganz offensichtlich keine große Auswirkung auf die betrachteten Eigenschaften hat, kann man diese Variable eigentlich auch weglassen, ohne dass viel Auswirkung daraus entsteht. Man kann also Faktor 2 im Laufe der weiteren Bewertung einfach streichen und wir haben in dieser Analyse eine zugrunde liegende latente Variable isoliert, Faktor 1, die auf die Kelchblattlänge, die Blütenblattlänge und Blütenblattbreite großen Einfluss hat."
   ]
  },
  {
   "cell_type": "code",
   "execution_count": null,
   "metadata": {},
   "outputs": [],
   "source": []
  },
  {
   "cell_type": "code",
   "execution_count": null,
   "metadata": {},
   "outputs": [],
   "source": []
  }
 ],
 "metadata": {
  "kernelspec": {
   "display_name": "Python 3",
   "language": "python",
   "name": "python3"
  },
  "language_info": {
   "codemirror_mode": {
    "name": "ipython",
    "version": 3
   },
   "file_extension": ".py",
   "mimetype": "text/x-python",
   "name": "python",
   "nbconvert_exporter": "python",
   "pygments_lexer": "ipython3",
   "version": "3.6.4"
  }
 },
 "nbformat": 4,
 "nbformat_minor": 2
}
