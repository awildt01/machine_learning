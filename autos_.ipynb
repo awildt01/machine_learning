{
 "cells": [
  {
   "cell_type": "markdown",
   "metadata": {
    "collapsed": true
   },
   "source": [
    "\n",
    "\n",
    "**In diesem Projekt geht es um Daten von Autos bezüglich der Zylinder, des Gewichts, des Verbrauchs und ob es ein Automatikgetriebe ist oder ein Handschaltgetriebe und so weiter.\n",
    "Der Wert 0 und 1 unterscheidet in der Spalte \"am\", ob es sich um ein Automatikgetriebe oder ein Handschaltgetriebe handelt.**\n",
    "\n",
    "In dieser Analyse werden die Features mpg , disp, hp und wt betracht. Das steht für den Verbrauch, den Hubraum, die Leistung und das Gewicht. Es wird versuchen zu erkennen, aufgrund dieser vier Merkmale Voraussagen zu treffen, ob das Auto ein Automatikgetriebe oder ein Handschaltgetriebe hat. Die Spalte \"am\" ist das Ziel-Variable\n",
    "Mit Klasse KNeighborsClassifier (Cluster Analysis - kNN) wird die Vorhersage getroffen."
   ]
  },
  {
   "cell_type": "code",
   "execution_count": 53,
   "metadata": {},
   "outputs": [],
   "source": [
    "import numpy as np\n",
    "import pandas as pd\n",
    "import sklearn\n",
    "from sklearn.neighbors import KNeighborsClassifier\n",
    "from sklearn import neighbors\n",
    "from sklearn import preprocessing\n",
    "from sklearn.model_selection import train_test_split\n",
    "from sklearn import metrics"
   ]
  },
  {
   "cell_type": "markdown",
   "metadata": {
    "collapsed": true
   },
   "source": [
    "Laden der Daten, auswählen, skalieren und teilen in Test- und Trainingsdatensätze\n"
   ]
  },
  {
   "cell_type": "code",
   "execution_count": 54,
   "metadata": {},
   "outputs": [],
   "source": [
    "address = 'mtcars.csv'\n",
    "cars = pd.read_csv(address)\n",
    "cars.columns = ['car_names','mpg','cyl','disp', 'hp', 'drat', 'wt', 'qsec', 'vs', 'am', 'gear', 'carb']\n",
    "X_prime = cars.iloc[:,[1,3,4,6]].values\n",
    "y = cars.iloc[:,[9]].values\n"
   ]
  },
  {
   "cell_type": "markdown",
   "metadata": {},
   "source": [
    "Die Werte werden aus den Datenset extrahiert und in der Zielvariable y und t X_Prime gespeichert. Die Features für die kNN-Analyse müssen skaliert werden. Es wird verwendet, um die Werte unabhängiger Variablen zu standardisieren. Mit dieser Methode wird der Bereich der Variablen begrenzt, damit sie leicht verglichen werden können.\n",
    "\n",
    "Die Originaldatensatz werden im Verhältnis 2:1 geteilt, das heißt, zwei Drittel der Daten als Trainingsdatensätze und ein Drittel, also 0.33, als Testdatensätze. Dieser random_state erzeugt einen definierten Zustand bezüglich der Wahrscheinlichkeit."
   ]
  },
  {
   "cell_type": "code",
   "execution_count": 55,
   "metadata": {},
   "outputs": [],
   "source": [
    "X = preprocessing.scale(X_prime)"
   ]
  },
  {
   "cell_type": "code",
   "execution_count": 65,
   "metadata": {},
   "outputs": [],
   "source": [
    "X_train, X_test, y_train, y_test = train_test_split(X, y.ravel(), test_size=.33, random_state=17)"
   ]
  },
  {
   "cell_type": "markdown",
   "metadata": {},
   "source": [
    "Erstellen und Trainieren des Modells mit Trainingsdaten\n"
   ]
  },
  {
   "cell_type": "code",
   "execution_count": 66,
   "metadata": {},
   "outputs": [
    {
     "name": "stdout",
     "output_type": "stream",
     "text": [
      "KNeighborsClassifier(algorithm='auto', leaf_size=30, metric='minkowski',\n",
      "                     metric_params=None, n_jobs=None, n_neighbors=5, p=2,\n",
      "                     weights='uniform')\n"
     ]
    }
   ],
   "source": [
    "clf = neighbors.KNeighborsClassifier()\n",
    "\n",
    "clf.fit(X_train, y_train)\n",
    "print(clf)"
   ]
  },
  {
   "cell_type": "markdown",
   "metadata": {},
   "source": [
    "**Bewerten der Vorhersagen des Modells anhand des Testdatensatzes**\n",
    "\n",
    "Die erwartete Testvariable nennt sich hier y_expect und die vorhergesagte y-Variable y_pred für Prediction. Die Methode predict wird genutzt, um diese Vorhersage für die einzelnen Testdaten zu treffen. \n",
    "\n",
    "Die Spalte recall ist ein Maß für die Vollständigkeit eines Modells precision die Genauigkeit, recall die Vollständigkeit des Modells. \n",
    "\n",
    "Die Ergebnisse sagen aus, dass von allen Punkten, die hier mit 1 bezeichnet wurden, also ob es ein Automatikgetriebe oder ein Schaltgetriebe ist , nur 67% dieser Ergebnisse wirklich relevant waren. Und vom gesamten Datensatz sind 82% der zurückgegeben Ergebnisse wirklich relevant. Eine hohe Präzision und ein geringer Rückruf bedeutet, es wurden nur wenige Ergebnis zurückgegeben, aber viele der zurückgegebenen Vorhersagen für ein Label waren korrekt. Je größer die Datenmenge ist, desto besser werden aber diese Analysen grundsätzlich. "
   ]
  },
  {
   "cell_type": "code",
   "execution_count": 67,
   "metadata": {},
   "outputs": [
    {
     "name": "stdout",
     "output_type": "stream",
     "text": [
      "              precision    recall  f1-score   support\n",
      "\n",
      "           0       0.71      1.00      0.83         5\n",
      "           1       1.00      0.67      0.80         6\n",
      "\n",
      "    accuracy                           0.82        11\n",
      "   macro avg       0.86      0.83      0.82        11\n",
      "weighted avg       0.87      0.82      0.82        11\n",
      "\n"
     ]
    }
   ],
   "source": [
    "y_expect = y_test\n",
    "y_pred = clf.predict(X_test)\n",
    "\n",
    "print(metrics.classification_report(y_expect, y_pred))"
   ]
  },
  {
   "cell_type": "code",
   "execution_count": null,
   "metadata": {},
   "outputs": [],
   "source": []
  },
  {
   "cell_type": "code",
   "execution_count": null,
   "metadata": {},
   "outputs": [],
   "source": []
  }
 ],
 "metadata": {
  "kernelspec": {
   "display_name": "Python 3",
   "language": "python",
   "name": "python3"
  },
  "language_info": {
   "codemirror_mode": {
    "name": "ipython",
    "version": 3
   },
   "file_extension": ".py",
   "mimetype": "text/x-python",
   "name": "python",
   "nbconvert_exporter": "python",
   "pygments_lexer": "ipython3",
   "version": "3.6.4"
  }
 },
 "nbformat": 4,
 "nbformat_minor": 1
}
