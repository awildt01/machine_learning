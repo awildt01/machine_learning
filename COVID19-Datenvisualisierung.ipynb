{
 "cells": [
  {
   "cell_type": "markdown",
   "metadata": {},
   "source": [
    "### Covid19-Datenvisualisierung\n",
    "In diesem Projekt werden Covid19-Daten aus verschieden Ländern (besonders Italien und Deutschland) verwendet. Mit Hilfe von Datenvisualisierungstechniken werden eigene analytischen Fragen beantwortet. Zuerst werden die Datensatz vorbereitet, dann werden folgende Punkten untersucht: \n",
    "\n",
    "1. Wie sieht die globale Ausbreitung des Virus aus?\n",
    "2. Wie intensiv war die Verbreitung des Virus in den Ländern?\n",
    "3. Haben die nationalen Sperren und Selbstisolationen von Covid19 in verschiedenen Ländern tatsächlich Auswirkungen auf die Übertragung von COVID19?\n",
    "4. Visualisierung der Auswirkungen der nationalen Sperrung in Italien auf die Sterberate.\n",
    "\n",
    "Die Datenset stammt aus der URL https://raw.githubusercontent.com/datasets/covid-19/master/data/countries-aggregated.csv\n",
    "Die Daten zeigen die Verbreitung von COVID19 vom Pandemiefreien Tag bis Datum. Diese Datenset wird täglisch aktualisiert.\n",
    "\n",
    "Die Datenset beihaltet 4 Spalten für jedes Land die Zahl der Tote, Infiziert und Genessen, sowie das Datum, wann die Daten aufgenommen wurden.\n",
    " \n",
    "Um die Fragen zu beantworten, wird in diesen Projekt das Plotly-Modul von Python verwendet, um ein intuitives Diagramm zu erstellen."
   ]
  },
  {
   "cell_type": "markdown",
   "metadata": {},
   "source": [
    "## Projektaufbau:\n",
    "\n",
    "Einführung Importieren des Auto-Update-Datasets mit der Github-URL\n",
    "\n",
    "Erstellen einer Choroplethenkarte, um die globale Ausbreitung des Virus zu visualisieren\n",
    "\n",
    "Erstellen eines Balkendiagramms zum Vergleich von Ländern hinsichtlich der Intensität der COVID19-Übertragung\n",
    "\n",
    "Visualisierung der Ausbreitung des Virus vor und nach der Sperrung in Italien\n"
   ]
  },
  {
   "cell_type": "code",
   "execution_count": 1,
   "metadata": {},
   "outputs": [
    {
     "name": "stdout",
     "output_type": "stream",
     "text": [
      "modules sind importiert\n"
     ]
    }
   ],
   "source": [
    "##import von den Module\n",
    "\n",
    "import pandas as pd\n",
    "import numpy as np\n",
    "import plotly.express as px\n",
    "import matplotlib.pyplot as plt \n",
    "print('modules sind importiert')"
   ]
  },
  {
   "cell_type": "code",
   "execution_count": 2,
   "metadata": {},
   "outputs": [
    {
     "name": "stdout",
     "output_type": "stream",
     "text": [
      "dataset geladen\n"
     ]
    }
   ],
   "source": [
    "##Dataset Wird geladen\n",
    "dataset_url = 'https://raw.githubusercontent.com/datasets/covid-19/master/data/countries-aggregated.csv'\n",
    "df = pd.read_csv(dataset_url)\n",
    "print('dataset geladen')"
   ]
  },
  {
   "cell_type": "code",
   "execution_count": 3,
   "metadata": {},
   "outputs": [
    {
     "data": {
      "text/html": [
       "<div>\n",
       "<style scoped>\n",
       "    .dataframe tbody tr th:only-of-type {\n",
       "        vertical-align: middle;\n",
       "    }\n",
       "\n",
       "    .dataframe tbody tr th {\n",
       "        vertical-align: top;\n",
       "    }\n",
       "\n",
       "    .dataframe thead th {\n",
       "        text-align: right;\n",
       "    }\n",
       "</style>\n",
       "<table border=\"1\" class=\"dataframe\">\n",
       "  <thead>\n",
       "    <tr style=\"text-align: right;\">\n",
       "      <th></th>\n",
       "      <th>Date</th>\n",
       "      <th>Country</th>\n",
       "      <th>Confirmed</th>\n",
       "      <th>Recovered</th>\n",
       "      <th>Deaths</th>\n",
       "    </tr>\n",
       "  </thead>\n",
       "  <tbody>\n",
       "    <tr>\n",
       "      <th>0</th>\n",
       "      <td>2020-01-22</td>\n",
       "      <td>Afghanistan</td>\n",
       "      <td>0</td>\n",
       "      <td>0</td>\n",
       "      <td>0</td>\n",
       "    </tr>\n",
       "    <tr>\n",
       "      <th>1</th>\n",
       "      <td>2020-01-23</td>\n",
       "      <td>Afghanistan</td>\n",
       "      <td>0</td>\n",
       "      <td>0</td>\n",
       "      <td>0</td>\n",
       "    </tr>\n",
       "    <tr>\n",
       "      <th>2</th>\n",
       "      <td>2020-01-24</td>\n",
       "      <td>Afghanistan</td>\n",
       "      <td>0</td>\n",
       "      <td>0</td>\n",
       "      <td>0</td>\n",
       "    </tr>\n",
       "    <tr>\n",
       "      <th>3</th>\n",
       "      <td>2020-01-25</td>\n",
       "      <td>Afghanistan</td>\n",
       "      <td>0</td>\n",
       "      <td>0</td>\n",
       "      <td>0</td>\n",
       "    </tr>\n",
       "    <tr>\n",
       "      <th>4</th>\n",
       "      <td>2020-01-26</td>\n",
       "      <td>Afghanistan</td>\n",
       "      <td>0</td>\n",
       "      <td>0</td>\n",
       "      <td>0</td>\n",
       "    </tr>\n",
       "  </tbody>\n",
       "</table>\n",
       "</div>"
      ],
      "text/plain": [
       "         Date      Country  Confirmed  Recovered  Deaths\n",
       "0  2020-01-22  Afghanistan          0          0       0\n",
       "1  2020-01-23  Afghanistan          0          0       0\n",
       "2  2020-01-24  Afghanistan          0          0       0\n",
       "3  2020-01-25  Afghanistan          0          0       0\n",
       "4  2020-01-26  Afghanistan          0          0       0"
      ]
     },
     "execution_count": 3,
     "metadata": {},
     "output_type": "execute_result"
    }
   ],
   "source": [
    "##dataframe\n",
    "df.head()"
   ]
  },
  {
   "cell_type": "code",
   "execution_count": 4,
   "metadata": {},
   "outputs": [
    {
     "data": {
      "text/html": [
       "<div>\n",
       "<style scoped>\n",
       "    .dataframe tbody tr th:only-of-type {\n",
       "        vertical-align: middle;\n",
       "    }\n",
       "\n",
       "    .dataframe tbody tr th {\n",
       "        vertical-align: top;\n",
       "    }\n",
       "\n",
       "    .dataframe thead th {\n",
       "        text-align: right;\n",
       "    }\n",
       "</style>\n",
       "<table border=\"1\" class=\"dataframe\">\n",
       "  <thead>\n",
       "    <tr style=\"text-align: right;\">\n",
       "      <th></th>\n",
       "      <th>Date</th>\n",
       "      <th>Country</th>\n",
       "      <th>Confirmed</th>\n",
       "      <th>Recovered</th>\n",
       "      <th>Deaths</th>\n",
       "    </tr>\n",
       "  </thead>\n",
       "  <tbody>\n",
       "    <tr>\n",
       "      <th>121285</th>\n",
       "      <td>2021-09-30</td>\n",
       "      <td>Zimbabwe</td>\n",
       "      <td>130820</td>\n",
       "      <td>0</td>\n",
       "      <td>4623</td>\n",
       "    </tr>\n",
       "    <tr>\n",
       "      <th>121286</th>\n",
       "      <td>2021-10-01</td>\n",
       "      <td>Zimbabwe</td>\n",
       "      <td>131028</td>\n",
       "      <td>0</td>\n",
       "      <td>4624</td>\n",
       "    </tr>\n",
       "    <tr>\n",
       "      <th>121287</th>\n",
       "      <td>2021-10-02</td>\n",
       "      <td>Zimbabwe</td>\n",
       "      <td>131094</td>\n",
       "      <td>0</td>\n",
       "      <td>4625</td>\n",
       "    </tr>\n",
       "    <tr>\n",
       "      <th>121288</th>\n",
       "      <td>2021-10-03</td>\n",
       "      <td>Zimbabwe</td>\n",
       "      <td>131129</td>\n",
       "      <td>0</td>\n",
       "      <td>4627</td>\n",
       "    </tr>\n",
       "    <tr>\n",
       "      <th>121289</th>\n",
       "      <td>2021-10-04</td>\n",
       "      <td>Zimbabwe</td>\n",
       "      <td>131129</td>\n",
       "      <td>0</td>\n",
       "      <td>4627</td>\n",
       "    </tr>\n",
       "  </tbody>\n",
       "</table>\n",
       "</div>"
      ],
      "text/plain": [
       "              Date   Country  Confirmed  Recovered  Deaths\n",
       "121285  2021-09-30  Zimbabwe     130820          0    4623\n",
       "121286  2021-10-01  Zimbabwe     131028          0    4624\n",
       "121287  2021-10-02  Zimbabwe     131094          0    4625\n",
       "121288  2021-10-03  Zimbabwe     131129          0    4627\n",
       "121289  2021-10-04  Zimbabwe     131129          0    4627"
      ]
     },
     "execution_count": 4,
     "metadata": {},
     "output_type": "execute_result"
    }
   ],
   "source": [
    "df.tail()"
   ]
  },
  {
   "cell_type": "code",
   "execution_count": 5,
   "metadata": {},
   "outputs": [
    {
     "data": {
      "text/plain": [
       "(121290, 5)"
      ]
     },
     "execution_count": 5,
     "metadata": {},
     "output_type": "execute_result"
    }
   ],
   "source": [
    "## shape\n",
    "df.shape"
   ]
  },
  {
   "cell_type": "code",
   "execution_count": 6,
   "metadata": {},
   "outputs": [
    {
     "data": {
      "text/plain": [
       "606450"
      ]
     },
     "execution_count": 6,
     "metadata": {},
     "output_type": "execute_result"
    }
   ],
   "source": [
    "df.size"
   ]
  },
  {
   "cell_type": "markdown",
   "metadata": {},
   "source": [
    "<p>Es wird in allen Ländern untersucht, wie viele Menschen infiziert wurden.\n",
    "<br>Die bestätigte Spalte(Confirmed) wird größer als Null gesetze.<p>\n",
    "\n"
   ]
  },
  {
   "cell_type": "code",
   "execution_count": 7,
   "metadata": {},
   "outputs": [
    {
     "data": {
      "text/html": [
       "<div>\n",
       "<style scoped>\n",
       "    .dataframe tbody tr th:only-of-type {\n",
       "        vertical-align: middle;\n",
       "    }\n",
       "\n",
       "    .dataframe tbody tr th {\n",
       "        vertical-align: top;\n",
       "    }\n",
       "\n",
       "    .dataframe thead th {\n",
       "        text-align: right;\n",
       "    }\n",
       "</style>\n",
       "<table border=\"1\" class=\"dataframe\">\n",
       "  <thead>\n",
       "    <tr style=\"text-align: right;\">\n",
       "      <th></th>\n",
       "      <th>Date</th>\n",
       "      <th>Country</th>\n",
       "      <th>Confirmed</th>\n",
       "      <th>Recovered</th>\n",
       "      <th>Deaths</th>\n",
       "    </tr>\n",
       "  </thead>\n",
       "  <tbody>\n",
       "    <tr>\n",
       "      <th>33</th>\n",
       "      <td>2020-02-24</td>\n",
       "      <td>Afghanistan</td>\n",
       "      <td>5</td>\n",
       "      <td>0</td>\n",
       "      <td>0</td>\n",
       "    </tr>\n",
       "    <tr>\n",
       "      <th>34</th>\n",
       "      <td>2020-02-25</td>\n",
       "      <td>Afghanistan</td>\n",
       "      <td>5</td>\n",
       "      <td>0</td>\n",
       "      <td>0</td>\n",
       "    </tr>\n",
       "    <tr>\n",
       "      <th>35</th>\n",
       "      <td>2020-02-26</td>\n",
       "      <td>Afghanistan</td>\n",
       "      <td>5</td>\n",
       "      <td>0</td>\n",
       "      <td>0</td>\n",
       "    </tr>\n",
       "    <tr>\n",
       "      <th>36</th>\n",
       "      <td>2020-02-27</td>\n",
       "      <td>Afghanistan</td>\n",
       "      <td>5</td>\n",
       "      <td>0</td>\n",
       "      <td>0</td>\n",
       "    </tr>\n",
       "    <tr>\n",
       "      <th>37</th>\n",
       "      <td>2020-02-28</td>\n",
       "      <td>Afghanistan</td>\n",
       "      <td>5</td>\n",
       "      <td>0</td>\n",
       "      <td>0</td>\n",
       "    </tr>\n",
       "  </tbody>\n",
       "</table>\n",
       "</div>"
      ],
      "text/plain": [
       "          Date      Country  Confirmed  Recovered  Deaths\n",
       "33  2020-02-24  Afghanistan          5          0       0\n",
       "34  2020-02-25  Afghanistan          5          0       0\n",
       "35  2020-02-26  Afghanistan          5          0       0\n",
       "36  2020-02-27  Afghanistan          5          0       0\n",
       "37  2020-02-28  Afghanistan          5          0       0"
      ]
     },
     "execution_count": 7,
     "metadata": {},
     "output_type": "execute_result"
    }
   ],
   "source": [
    "df = df[df.Confirmed > 0]\n",
    "df.head()"
   ]
  },
  {
   "cell_type": "markdown",
   "metadata": {},
   "source": [
    "Daten aus Italien"
   ]
  },
  {
   "cell_type": "code",
   "execution_count": 8,
   "metadata": {},
   "outputs": [
    {
     "data": {
      "text/html": [
       "<div>\n",
       "<style scoped>\n",
       "    .dataframe tbody tr th:only-of-type {\n",
       "        vertical-align: middle;\n",
       "    }\n",
       "\n",
       "    .dataframe tbody tr th {\n",
       "        vertical-align: top;\n",
       "    }\n",
       "\n",
       "    .dataframe thead th {\n",
       "        text-align: right;\n",
       "    }\n",
       "</style>\n",
       "<table border=\"1\" class=\"dataframe\">\n",
       "  <thead>\n",
       "    <tr style=\"text-align: right;\">\n",
       "      <th></th>\n",
       "      <th>Date</th>\n",
       "      <th>Country</th>\n",
       "      <th>Confirmed</th>\n",
       "      <th>Recovered</th>\n",
       "      <th>Deaths</th>\n",
       "    </tr>\n",
       "  </thead>\n",
       "  <tbody>\n",
       "    <tr>\n",
       "      <th>52879</th>\n",
       "      <td>2020-01-31</td>\n",
       "      <td>Italy</td>\n",
       "      <td>2</td>\n",
       "      <td>0</td>\n",
       "      <td>0</td>\n",
       "    </tr>\n",
       "    <tr>\n",
       "      <th>52880</th>\n",
       "      <td>2020-02-01</td>\n",
       "      <td>Italy</td>\n",
       "      <td>2</td>\n",
       "      <td>0</td>\n",
       "      <td>0</td>\n",
       "    </tr>\n",
       "    <tr>\n",
       "      <th>52881</th>\n",
       "      <td>2020-02-02</td>\n",
       "      <td>Italy</td>\n",
       "      <td>2</td>\n",
       "      <td>0</td>\n",
       "      <td>0</td>\n",
       "    </tr>\n",
       "    <tr>\n",
       "      <th>52882</th>\n",
       "      <td>2020-02-03</td>\n",
       "      <td>Italy</td>\n",
       "      <td>2</td>\n",
       "      <td>0</td>\n",
       "      <td>0</td>\n",
       "    </tr>\n",
       "    <tr>\n",
       "      <th>52883</th>\n",
       "      <td>2020-02-04</td>\n",
       "      <td>Italy</td>\n",
       "      <td>2</td>\n",
       "      <td>0</td>\n",
       "      <td>0</td>\n",
       "    </tr>\n",
       "  </tbody>\n",
       "</table>\n",
       "</div>"
      ],
      "text/plain": [
       "             Date Country  Confirmed  Recovered  Deaths\n",
       "52879  2020-01-31   Italy          2          0       0\n",
       "52880  2020-02-01   Italy          2          0       0\n",
       "52881  2020-02-02   Italy          2          0       0\n",
       "52882  2020-02-03   Italy          2          0       0\n",
       "52883  2020-02-04   Italy          2          0       0"
      ]
     },
     "execution_count": 8,
     "metadata": {},
     "output_type": "execute_result"
    }
   ],
   "source": [
    "df[df.Country == 'Italy'].head()\n"
   ]
  },
  {
   "cell_type": "markdown",
   "metadata": {},
   "source": [
    " Covid19 weltweit Ausbreitung von 2020-02-24 (Alle Fälle, die bestätigt wurden)"
   ]
  },
  {
   "cell_type": "code",
   "execution_count": null,
   "metadata": {},
   "outputs": [],
   "source": [
    "fig = px.choropleth(df , locations = 'Country' , locationmode='country names',color='Confirmed'\n",
    "                   ,animation_frame='Date')\n",
    "fig.update_layout(title_text = 'Global Spread of COVID-19')\n",
    "fig.show()"
   ]
  },
  {
   "cell_type": "markdown",
   "metadata": {},
   "source": [
    " Covid19 weltweit Ausbreitung ein Monat später (Alle Fälle, die bestätigt wurden)"
   ]
  },
  {
   "cell_type": "code",
   "execution_count": null,
   "metadata": {},
   "outputs": [],
   "source": [
    "fig = px.choropleth(df , locations = 'Country' , locationmode='country names',color='Confirmed'\n",
    "                   ,animation_frame='Date')\n",
    "fig.update_layout(title_text = 'Global Spread of COVID-19')\n",
    "fig.show()"
   ]
  },
  {
   "cell_type": "markdown",
   "metadata": {},
   "source": [
    "<p>Die weltweiten Todesfälle von COVID19.\n",
    "<br>Ab dem ersten Tag der Pandemie.<p>\n"
   ]
  },
  {
   "cell_type": "code",
   "execution_count": null,
   "metadata": {
    "scrolled": false
   },
   "outputs": [],
   "source": [
    "fig = px.choropleth(df , locations = 'Country' , locationmode='country names',color='Deaths'\n",
    "                   ,animation_frame='Date')\n",
    "fig.update_layout(title_text = 'Global Deaths of COVID-19')\n",
    "fig.show()"
   ]
  },
  {
   "cell_type": "markdown",
   "metadata": {},
   "source": [
    "Die Visualizierung wie intensiv die Covid19-Übertragung in China war.\n",
    "Dafür wird die maximale Infektionsrate bzw. maximale Anzahl neu infizierter Fälle\n",
    "über 24 Stunden benutzt.\n",
    "\n",
    "Am 2020-01-22 sind 548 Fälle, 24 Stunden später am 2020-02-643 sind 643 Fälle bestätigt.\n",
    "In 24 Stunden sind 95 neue Fälle dazu gekommen.\n"
   ]
  },
  {
   "cell_type": "code",
   "execution_count": null,
   "metadata": {},
   "outputs": [],
   "source": [
    "df_china = df[df.Country == 'China']\n",
    "df_china.head()"
   ]
  },
  {
   "cell_type": "markdown",
   "metadata": {},
   "source": [
    "Berechung für Infektionsrate in China über die gesamte Periode \n"
   ]
  },
  {
   "cell_type": "code",
   "execution_count": null,
   "metadata": {},
   "outputs": [],
   "source": [
    "df_china = df_china[['Date','Confirmed']]"
   ]
  },
  {
   "cell_type": "code",
   "execution_count": null,
   "metadata": {},
   "outputs": [],
   "source": [
    "df_china.head()"
   ]
  },
  {
   "cell_type": "code",
   "execution_count": null,
   "metadata": {},
   "outputs": [],
   "source": [
    "df_china['Infection Rate'] = df_china['Confirmed'].diff()"
   ]
  },
  {
   "cell_type": "code",
   "execution_count": null,
   "metadata": {},
   "outputs": [],
   "source": [
    "df_china.head()"
   ]
  },
  {
   "cell_type": "markdown",
   "metadata": {},
   "source": [
    "Visualisierung von der Infektionsrate in China:\n",
    "\n",
    "- Die blaue Linie ist die kumulative Anzahl der bestätigten Fällen auf der roten Linie ist die Infektionsrate.\n",
    "\n",
    "- Die Größte Zahl der Neuinfektionen war am 2020-02-13 mit 15136.0 neu Fälle.\n"
   ]
  },
  {
   "cell_type": "code",
   "execution_count": null,
   "metadata": {},
   "outputs": [],
   "source": [
    "px.line(df_china , x = 'Date' , y = ['Confirmed','Infection Rate'])"
   ]
  },
  {
   "cell_type": "markdown",
   "metadata": {},
   "source": [
    "Diese Zahl beschreibet, wie massiv COVID19 sich  in China verbreitet, also in einem Tag wurden 15136.0 neu Fälle gemeldet\n"
   ]
  },
  {
   "cell_type": "code",
   "execution_count": null,
   "metadata": {},
   "outputs": [],
   "source": [
    "df_china['Infection Rate'].max()"
   ]
  },
  {
   "cell_type": "markdown",
   "metadata": {},
   "source": [
    "Maximum Infektionsrate alle andere Länder "
   ]
  },
  {
   "cell_type": "code",
   "execution_count": null,
   "metadata": {},
   "outputs": [],
   "source": [
    "df.head()"
   ]
  },
  {
   "cell_type": "markdown",
   "metadata": {},
   "source": [
    "Berechung für jedes Land mit dem maximale Infektionrat\n",
    "\n",
    "MIR sind die Infektionsrate."
   ]
  },
  {
   "cell_type": "code",
   "execution_count": null,
   "metadata": {},
   "outputs": [],
   "source": [
    "countries = list(df['Country'].unique())\n",
    "max_infection_rates = []\n",
    "for c in countries :\n",
    "    MIR = df[df.Country == c].Confirmed.diff().max()\n",
    "    max_infection_rates.append(MIR)"
   ]
  },
  {
   "cell_type": "markdown",
   "metadata": {},
   "source": [
    "Erzeugung von einem neuen Dataframe mit Ländername und maximalen Infektionsrate"
   ]
  },
  {
   "cell_type": "code",
   "execution_count": null,
   "metadata": {},
   "outputs": [],
   "source": [
    "df_MIR = pd.DataFrame()\n",
    "df_MIR['Country'] = countries\n",
    "df_MIR['Max Infection Rate'] = max_infection_rates\n",
    "df_MIR.head()"
   ]
  },
  {
   "cell_type": "markdown",
   "metadata": {},
   "source": [
    "<p>Ein Balkendiagramm wird gezeichnet, um den Unterschied zwischen verschiedenen Ländern in Bezug auf die maximale Infektionsrate zu zeigen.<p>\n",
    "   \n"
   ]
  },
  {
   "cell_type": "code",
   "execution_count": null,
   "metadata": {
    "scrolled": false
   },
   "outputs": [],
   "source": [
    "px.bar(df_MIR, x='Country' , y='Max Infection Rate', color = 'Country' , title ='Global Maximum infection rate', log_y=True)"
   ]
  },
  {
   "cell_type": "markdown",
   "metadata": {},
   "source": [
    "### Frage:\n",
    "Wie beeinflusst die COVID19 nationale Sperren in Italien die Verbreitung des Virus?\n",
    "\n",
    "Am 9. März 2020 hat die italienische Regierung unter Premierminister Giuseppe Conte als Reaktion auf die wachsende COVID-19-Pandemie im Land eine nationale Quarantäne verhängt, die die Bewegungsfreiheit der Bevölkerung mit Ausnahme von Notwendigkeiten, Arbeits- und Gesundheitsbedingungen einschränkte <a href=\"https://en.wikipedia.org/wiki/COVID-19_pandemic_lockdown_in_Italy#:~:text=On%209%20March%202020%2C%20the,COVID%2D19%20in%20the%20country.\">source</a>\n"
   ]
  },
  {
   "cell_type": "code",
   "execution_count": null,
   "metadata": {},
   "outputs": [],
   "source": [
    "italy_lockdown_start_date = '2020-03-09'\n",
    "italy_lockdown_a_month_later = '2020-04-09'"
   ]
  },
  {
   "cell_type": "code",
   "execution_count": null,
   "metadata": {},
   "outputs": [],
   "source": [
    "df.head()"
   ]
  },
  {
   "cell_type": "markdown",
   "metadata": {},
   "source": [
    "Ein Dataframe nur mit Daten aus Italien"
   ]
  },
  {
   "cell_type": "code",
   "execution_count": null,
   "metadata": {},
   "outputs": [],
   "source": [
    "df_italy = df[df.Country == 'Italy']"
   ]
  },
  {
   "cell_type": "code",
   "execution_count": null,
   "metadata": {},
   "outputs": [],
   "source": [
    "df_italy.head()"
   ]
  },
  {
   "cell_type": "markdown",
   "metadata": {},
   "source": [
    "Berechung der Infenkitionrate aus Italien"
   ]
  },
  {
   "cell_type": "code",
   "execution_count": null,
   "metadata": {},
   "outputs": [],
   "source": [
    "df_italy['Infection Rate'] = df_italy.Confirmed.diff()\n",
    "df_italy.head()"
   ]
  },
  {
   "cell_type": "markdown",
   "metadata": {},
   "source": [
    "Visualisierung mit einem Plot-Liniendiagramm\n",
    "- Die rote Linie repräsentiert der Anfang des Lockdown\n",
    "- Die Orange Linie repräsentiert das Ende des Lockdown\n",
    "\n",
    "Einige Monate nach dem Lockdow in Italien am 23.06.2020 wurde der niedriger Infenktionsrat von 113 gezeigt."
   ]
  },
  {
   "cell_type": "code",
   "execution_count": null,
   "metadata": {},
   "outputs": [],
   "source": [
    "fig = px.line(df_italy , x = 'Date' , y = 'Infection Rate' , title = \"Before and After Lockdown in Italy\")\n",
    "fig.add_shape(\n",
    "    dict(\n",
    "    type=\"line\",\n",
    "    x0=italy_lockdown_start_date,\n",
    "    y0=0,\n",
    "    x1=italy_lockdown_start_date,\n",
    "    y1= df_italy['Infection Rate'].max(),\n",
    "    line = dict(color='red' , width=2)\n",
    "\n",
    "    )\n",
    "\n",
    ")\n",
    "fig.add_annotation(\n",
    "     dict(\n",
    "     x = italy_lockdown_start_date,\n",
    "     y = df_italy['Infection Rate'].max(),\n",
    "     text = 'starting date of the lockdown'  \n",
    "     )\n",
    ")\n",
    "fig.add_shape(\n",
    "    dict(\n",
    "    type=\"line\",\n",
    "    x0=italy_lockdown_a_month_later,\n",
    "    y0=0,\n",
    "    x1=italy_lockdown_a_month_later,\n",
    "    y1= df_italy['Infection Rate'].max(),\n",
    "    line = dict(color='orange' , width=2)\n",
    "\n",
    "    )\n",
    "\n",
    ")\n",
    "fig.add_annotation(\n",
    "     dict(\n",
    "     x = italy_lockdown_a_month_later,\n",
    "     y = 0,\n",
    "     text = 'a month later'  \n",
    "     )\n",
    ")"
   ]
  },
  {
   "cell_type": "markdown",
   "metadata": {},
   "source": [
    "### Wie wirkt die nationale Sperren auf die Covid19-Todesrate in Italien aus?"
   ]
  },
  {
   "cell_type": "code",
   "execution_count": null,
   "metadata": {},
   "outputs": [],
   "source": [
    "df_italy.head()"
   ]
  },
  {
   "cell_type": "markdown",
   "metadata": {},
   "source": [
    "Eine Spalte für Sterberate wurde in einen neuen Array berechnet."
   ]
  },
  {
   "cell_type": "code",
   "execution_count": null,
   "metadata": {},
   "outputs": [],
   "source": [
    "df_italy['Deaths Rate'] = df_italy.Deaths.diff()"
   ]
  },
  {
   "cell_type": "code",
   "execution_count": null,
   "metadata": {},
   "outputs": [],
   "source": [
    "df_italy.head()"
   ]
  },
  {
   "cell_type": "markdown",
   "metadata": {},
   "source": [
    "Liniendiagramm, um die Auswirkungen der nationalen Sperren von COVID19 auf die Ausbreitung des Virus und die Sterblichkeitsrate zu vergleichen\n",
    "\n",
    "- Die blaue Linie ist die Infektionsrate und\n",
    "- Rote Linie ist die Sterberate.\n"
   ]
  },
  {
   "cell_type": "code",
   "execution_count": null,
   "metadata": {},
   "outputs": [],
   "source": [
    "fig = px.line(df_italy,x='Date',y=['Infection Rate','Deaths Rate'])\n",
    "fig.show()"
   ]
  },
  {
   "cell_type": "markdown",
   "metadata": {},
   "source": [
    "<p>Die Zahl der Todesfälle ist viel niedriger als die Zahl der bestätigten Fälle.\n",
    "<br>Um sie besser zu vergleichen werden die Zahlen normalisieren, also jeden Wert wird zwischen null und eins sein.<p>\n",
    "\n"
   ]
  },
  {
   "cell_type": "code",
   "execution_count": null,
   "metadata": {},
   "outputs": [],
   "source": [
    "df_italy['Infection Rate'] = df_italy['Infection Rate']/df_italy['Infection Rate'].max()\n",
    "df_italy['Deaths Rate'] = df_italy['Deaths Rate']/df_italy['Deaths Rate'].max()"
   ]
  },
  {
   "cell_type": "markdown",
   "metadata": {},
   "source": [
    "<p>Liniendiagramm mit normalisierten Zahlen.\n",
    "<br>Nach dem Liniendiagramm ist die Totesrate nach dem Lockdow drastisch abgestiegen, im Vergleich mit der Zeit ohne Lockdow<p>\n",
    "    \n",
    "Die COVID19-Lockdown war in Italien wirksam.\n"
   ]
  },
  {
   "cell_type": "code",
   "execution_count": null,
   "metadata": {},
   "outputs": [],
   "source": [
    "fig = px.line(df_italy, x='Date', y=['Infection Rate','Deaths Rate'])\n",
    "fig.add_shape(\n",
    "    dict(\n",
    "    type=\"line\",\n",
    "    x0=italy_lockdown_start_date,\n",
    "    y0=0,\n",
    "    x1=italy_lockdown_start_date,\n",
    "    y1= df_italy['Infection Rate'].max(),\n",
    "    line = dict(color='black' , width=2)\n",
    "\n",
    "    )\n",
    "\n",
    ")\n",
    "fig.add_annotation(\n",
    "     dict(\n",
    "     x = italy_lockdown_start_date,\n",
    "     y = df_italy['Infection Rate'].max(),\n",
    "     text = 'starting date of the lockdown'  \n",
    "     )\n",
    ")\n",
    "fig.add_shape(\n",
    "    dict(\n",
    "    type=\"line\",\n",
    "    x0=italy_lockdown_a_month_later,\n",
    "    y0=0,\n",
    "    x1=italy_lockdown_a_month_later,\n",
    "    y1= df_italy['Infection Rate'].max(),\n",
    "    line = dict(color='orange' , width=2)\n",
    "\n",
    "    )\n",
    "\n",
    ")\n",
    "fig.add_annotation(\n",
    "     dict(\n",
    "     x = italy_lockdown_a_month_later,\n",
    "     y = 0,\n",
    "     text = 'a month later'  \n",
    "     )\n",
    ")"
   ]
  },
  {
   "cell_type": "code",
   "execution_count": null,
   "metadata": {},
   "outputs": [],
   "source": []
  }
 ],
 "metadata": {
  "kernelspec": {
   "display_name": "Python 3",
   "language": "python",
   "name": "python3"
  },
  "language_info": {
   "codemirror_mode": {
    "name": "ipython",
    "version": 3
   },
   "file_extension": ".py",
   "mimetype": "text/x-python",
   "name": "python",
   "nbconvert_exporter": "python",
   "pygments_lexer": "ipython3",
   "version": "3.6.4"
  }
 },
 "nbformat": 4,
 "nbformat_minor": 2
}
